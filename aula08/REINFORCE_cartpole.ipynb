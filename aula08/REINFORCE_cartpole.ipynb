{
 "cells": [
  {
   "cell_type": "markdown",
   "id": "693a9067",
   "metadata": {},
   "source": [
    "# Gradiente de política (REINFORCE)\n",
    "\n",
    "#### Prof. Armando Alves Neto - Introdução ao Aprendizado por Reforço - PPGEE/UFMG\n",
    "\n",
    "<img src=\"cart_pole.gif\" width=\"400\">\n",
    "\n",
    "Objetivo: usar o gradiente de política de Monte Carlo (episódico) para estimar uma política $\\pi \\approx \\pi_*$ que controle um pêndulo invertido.\n",
    "\n",
    "## Características do pêndulo:\n",
    "\n",
    "### Espaço de observações\n",
    "\n",
    "| Número | Observação | Min | Max |\n",
    "| :-: | :- | :-: | :-: |\n",
    "| 0\t| Posição do carrinho | -4.8 | 4.8|\n",
    "| 1\t| Velocidade do carrinho | $-\\infty$ | $\\infty$|\n",
    "| 2\t| Ângulo do pêndulo | -0.418 rad (-24°)\t| 0.418 rad (24°)|\n",
    "| 3\t| Velocidade angular do pêndulo\t| $-\\infty$ | $\\infty$ |\n",
    "\n",
    "### Espaço de ações\n",
    "| Número | Ação |\n",
    "| :-: | :- |\n",
    "| 0\t| Carrinho para a esquerda |\n",
    "| 1\t| Carrinho para a direita |\n",
    "\n",
    "### Função de reforço\n",
    "\n",
    "- Devolve +1 para cada passo antes do pêndulo cair.\n",
    "- Episódio termina quando o ângulo do pêndulo excede ±12°, ou quando a posição do carrinho é maior que ±2.4.\n",
    "- Máximo de 200 passos."
   ]
  },
  {
   "cell_type": "markdown",
   "id": "f0fec72d",
   "metadata": {},
   "source": [
    "Importando as bibliotecas."
   ]
  },
  {
   "cell_type": "code",
   "execution_count": 1,
   "id": "045dcd24",
   "metadata": {},
   "outputs": [],
   "source": [
    "import gym\n",
    "import numpy as np\n",
    "import torch\n",
    "import torch.nn as nn\n",
    "import torch.nn.functional as F\n",
    "import torch.optim as optim\n",
    "from torch.distributions import Categorical\n",
    "import matplotlib.pyplot as plt\n",
    "plt.rcParams['figure.figsize'] = (10,5)\n",
    "from IPython.display import clear_output\n",
    "from collections import deque\n",
    "import seaborn as sns\n",
    "sns.set()"
   ]
  },
  {
   "cell_type": "markdown",
   "id": "537764bc",
   "metadata": {},
   "source": [
    "Cria uma classe (```RunningAverage()```) apenas para calcular a média móvel do sinal de reforço."
   ]
  },
  {
   "cell_type": "code",
   "execution_count": 2,
   "id": "08a5cc09",
   "metadata": {},
   "outputs": [],
   "source": [
    "class RunningAverage(object):\n",
    "    def __init__(self, N):\n",
    "        self.buffer = deque(maxlen=N)\n",
    "\n",
    "    def push(self, val):  \n",
    "        self.buffer.append(val)\n",
    "\n",
    "    def get(self):\n",
    "        return np.mean(self.buffer)"
   ]
  },
  {
   "cell_type": "markdown",
   "id": "accccd9c",
   "metadata": {},
   "source": [
    "Função diferenciável $\\pi(a|s, \\boldsymbol{\\theta})$: rede neural com uma camada escondida."
   ]
  },
  {
   "cell_type": "code",
   "execution_count": 3,
   "id": "7841e212",
   "metadata": {},
   "outputs": [],
   "source": [
    "class Policy(nn.Module):\n",
    "    ##########################################\n",
    "    def __init__(self, state_size, action_size, hidden_size=64):\n",
    "        super(Policy, self).__init__()\n",
    "        self.fc1 = nn.Linear(state_size, hidden_size)\n",
    "        self.fc2 = nn.Linear(hidden_size, action_size)\n",
    "\n",
    "    ##########################################\n",
    "    def forward(self, state):\n",
    "        x = F.relu(self.fc1(state))\n",
    "        return F.softmax(self.fc2(x), dim=1)\n",
    "\n",
    "    ##########################################\n",
    "    def act(self, state, device):\n",
    "        state = torch.from_numpy(state).float().unsqueeze(0).to(device)\n",
    "        # saida da rede é a probabilidade de cada ação para o estado\n",
    "        probs = self.forward(state).to(device)\n",
    "        # escolhe a ação aleatoria segundo a probabilidade categorical\n",
    "        model = Categorical(probs)\n",
    "        action = model.sample()\n",
    "        # retorna ação e log da probabilidade dela\n",
    "        return action.item(), model.log_prob(action)"
   ]
  },
  {
   "cell_type": "markdown",
   "id": "f7e05e19",
   "metadata": {},
   "source": [
    "Criando a classe para o algoritmo de REINFORCE."
   ]
  },
  {
   "cell_type": "code",
   "execution_count": 4,
   "id": "6820f8ac",
   "metadata": {},
   "outputs": [],
   "source": [
    "class Reinforce(object):\n",
    "    def __init__(self, parameters):\n",
    "        \n",
    "        self.parameters = parameters\n",
    "\n",
    "        # numero de episodios\n",
    "        self.episode = 0\n",
    "        self.max_iter = parameters['max_iter']\n",
    "        \n",
    "        # parametros de aprendizado\n",
    "        self.gamma = parameters['gamma']\n",
    "        self.alpha = parameters['alpha']\n",
    "        self.device = parameters['device']\n",
    "\n",
    "        # cria ambiente\n",
    "        self.env = gym.make('CartPole-v0')\n",
    "        \n",
    "        # cria a função parametrica da política\n",
    "        self.policy = Policy(state_size=self.env.observation_space.shape[0], action_size=self.env.action_space.n).to(self.device)\n",
    "        \n",
    "        # otimizador da rede neural\n",
    "        self.optimizer = optim.Adam(self.policy.parameters(), lr=self.alpha)"
   ]
  },
  {
   "cell_type": "markdown",
   "id": "f42c49b4",
   "metadata": {},
   "source": [
    "Executando um episódio."
   ]
  },
  {
   "cell_type": "code",
   "execution_count": 5,
   "id": "43c0fb83",
   "metadata": {},
   "outputs": [],
   "source": [
    "class Reinforce(Reinforce):\n",
    "    ##########################################\n",
    "    def runEpisode(self, print_every=50):\n",
    "        \n",
    "        # novo episodio\n",
    "        self.episode += 1\n",
    "        \n",
    "        saved_log_probs = []\n",
    "        rewards = []\n",
    "\n",
    "        # reseta o ambiente\n",
    "        S = self.env.reset()\n",
    "\n",
    "        # Gerando a experiencia a partir da politica\n",
    "        for _ in range(self.max_iter):\n",
    "\n",
    "            # Amostra uma ação da politica corrente\n",
    "            A, log_prob = self.policy.act(S, self.device)\n",
    "            saved_log_probs.append(log_prob)\n",
    "\n",
    "            # passo de interacao com o ambiente\n",
    "            Sl, R, done, _ = self.env.step(A)\n",
    "            rewards.append(R)\n",
    "            \n",
    "            # chegou a um estado terminal?\n",
    "            if done: break\n",
    "            \n",
    "            # renderiza o ambiente\n",
    "            if self.episode % print_every == 0:\n",
    "                self.env.render()\n",
    "                \n",
    "            # proximo estado\n",
    "            S = Sl\n",
    "\n",
    "        # Calcula o retorno aplicando o fator de desconto\n",
    "        discounts = [self.gamma ** i for i in range(len(rewards)+1)]\n",
    "        G = sum([a*b for a,b in zip(discounts, rewards)])\n",
    "\n",
    "        # Calculate the loss \n",
    "        policy_loss = []\n",
    "        for log_prob in saved_log_probs:\n",
    "            # Note that we are using Gradient Ascent, not Descent. So we need to calculate it with negative rewards.\n",
    "            policy_loss.append(-log_prob * G)\n",
    "\n",
    "        # After that, we concatenate whole policy loss in 0th dimension\n",
    "        policy_loss = torch.cat(policy_loss).sum()\n",
    "\n",
    "        # Backpropagation\n",
    "        self.optimizer.zero_grad()\n",
    "        policy_loss.backward()\n",
    "        self.optimizer.step()\n",
    "\n",
    "        return np.sum(np.array(rewards))"
   ]
  },
  {
   "cell_type": "markdown",
   "id": "4a2de452",
   "metadata": {},
   "source": [
    "Programa principal:\n",
    "- episodes: número de episódios\n",
    "- max_iter: máximo de iterações até o fim do episódio\n",
    "- gamma: fator de desconto\n",
    "- alpha: $\\alpha$"
   ]
  },
  {
   "cell_type": "code",
   "execution_count": 6,
   "id": "c235eedb",
   "metadata": {},
   "outputs": [
    {
     "data": {
      "image/png": "[encoded data removed]",
      "text/plain": [
       "<Figure size 720x360 with 1 Axes>"
      ]
     },
     "metadata": {},
     "output_type": "display_data"
    }
   ],
   "source": [
    "if __name__ == '__main__':\n",
    "    \n",
    "    plt.ion()\n",
    "\n",
    "    # cria objeto para calculo da média movel do reward\n",
    "    avg_calc = RunningAverage(50)\n",
    "    \n",
    "    # parametros\n",
    "    parameters = {'episodes'  : 2000,\n",
    "                  'max_iter'  : 300,\n",
    "                  'gamma'     : 0.99,\n",
    "                  'alpha'     : 2.0e-3,\n",
    "                  'device'    :torch.device(\"cuda:0\" if torch.cuda.is_available() else \"cpu\"),\n",
    "                 }\n",
    "    \n",
    "    # historico dos reforços\n",
    "    rewards = []\n",
    "    avg_rewards = []\n",
    "    \n",
    "    re = Reinforce(parameters)\n",
    "    \n",
    "    while re.episode <= parameters['episodes']:\n",
    "        \n",
    "        # roda um episodio\n",
    "        total_reward = re.runEpisode()\n",
    "\n",
    "        # rewards\n",
    "        rewards.append(total_reward)\n",
    "        # reward medio\n",
    "        avg_calc.push(total_reward)\n",
    "        avg_rewards.append(avg_calc.get())\n",
    "\n",
    "        plt.figure(1)\n",
    "        clear_output(wait=True)\n",
    "        plt.clf()\n",
    "        plt.plot(avg_rewards, 'b', linewidth=2)\n",
    "        plt.plot(rewards, 'r', alpha=0.3)\n",
    "        plt.title('Reforço por episódios')\n",
    "        plt.xlabel('Episódios')\n",
    "        plt.ylabel('Reforço')\n",
    "\n",
    "        plt.show()\n",
    "        plt.pause(.1)\n",
    "\n",
    "    plt.ioff()"
   ]
  }
 ],
 "metadata": {
  "kernelspec": {
   "display_name": "Python 3 (ipykernel)",
   "language": "python",
   "name": "python3"
  },
  "language_info": {
   "codemirror_mode": {
    "name": "ipython",
    "version": 3
   },
   "file_extension": ".py",
   "mimetype": "text/x-python",
   "name": "python",
   "nbconvert_exporter": "python",
   "pygments_lexer": "ipython3",
   "version": "3.8.10"
  }
 },
 "nbformat": 4,
 "nbformat_minor": 5
}
