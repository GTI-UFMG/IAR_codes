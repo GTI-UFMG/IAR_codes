{
 "cells": [
  {
   "cell_type": "markdown",
   "id": "7423733b",
   "metadata": {},
   "source": [
    "# Ator-crítico TD(0) (episódico)\n",
    "\n",
    "#### Prof. Armando Alves Neto - Introdução ao Aprendizado por Reforço - PPGEE/UFMG\n",
    "\n",
    "<img src=\"cart_pole.gif\" width=\"400\">\n",
    "\n",
    "Objetivo: usar o método ator-crítico TD(0) (episódico) para estimar uma política $\\pi(a|s, \\boldsymbol{\\theta})$ que controle um pêndulo invertido.\n",
    "\n",
    "## Características do pêndulo:\n",
    "\n",
    "### Espaço de observações\n",
    "\n",
    "| Número | Observação | Min | Max |\n",
    "| :-: | :- | :-: | :-: |\n",
    "| 0\t| Posição do carrinho | -4.8 | 4.8|\n",
    "| 1\t| Velocidade do carrinho | $-\\infty$ | $\\infty$|\n",
    "| 2\t| Ângulo do pêndulo | -0.418 rad (-24°)\t| 0.418 rad (24°)|\n",
    "| 3\t| Velocidade angular do pêndulo\t| $-\\infty$ | $\\infty$ |\n",
    "\n",
    "### Espaço de ações\n",
    "| Número | Ação |\n",
    "| :-: | :- |\n",
    "| 0\t| Carrinho para a esquerda |\n",
    "| 1\t| Carrinho para a direita |\n",
    "\n",
    "### Função de recompensa\n",
    "\n",
    "- Devolve +1 para cada passo antes do pêndulo cair.\n",
    "- Episódio termina quando o ângulo do pêndulo excede ±12°, ou quando a posição do carrinho é maior que ±2.4.\n",
    "- Máximo de 200 passos."
   ]
  },
  {
   "cell_type": "markdown",
   "id": "25758f82",
   "metadata": {},
   "source": [
    "Importando as bibliotecas."
   ]
  },
  {
   "cell_type": "code",
   "execution_count": 1,
   "id": "03969eaa",
   "metadata": {},
   "outputs": [],
   "source": [
    "try:\n",
    "    import gymnasium as gym\n",
    "except:\n",
    "    import gym\n",
    "import numpy as np\n",
    "import torch\n",
    "import torch.nn as nn\n",
    "import torch.nn.functional as F\n",
    "import torch.optim as optim\n",
    "from torch.distributions import Categorical\n",
    "from IPython.display import clear_output\n",
    "import matplotlib.pyplot as plt\n",
    "plt.rcParams['figure.figsize'] = (8,4)"
   ]
  },
  {
   "cell_type": "markdown",
   "id": "d03a8bf1",
   "metadata": {},
   "source": [
    "Essa rede representa uma função diferenciável $\\pi(a|s, \\boldsymbol{\\theta})$ que fornece a probabilidade de cada ação $a$ ser escolhida, dado um estado $s$. A arquitetura da Rede Neural Artificial (Perceptron) tem ```state_size``` entradas, ```action_size``` saídas e uma camada escondida de tamanho ```hidden_size```."
   ]
  },
  {
   "cell_type": "code",
   "execution_count": 2,
   "id": "b36018ae",
   "metadata": {},
   "outputs": [],
   "source": [
    "class Policy(nn.Module):\n",
    "    ##########################################\n",
    "    def __init__(self, state_size, action_size, hidden_size=64):\n",
    "        super(Policy, self).__init__()\n",
    "        self.fc1 = nn.Linear(state_size, hidden_size)\n",
    "        self.fc2 = nn.Linear(hidden_size, action_size)\n",
    "\n",
    "    ##########################################\n",
    "    def forward(self, state):\n",
    "        x = F.relu(self.fc1(state))\n",
    "        return F.softmax(self.fc2(x), dim=1)\n",
    "\n",
    "    ##########################################\n",
    "    def act(self, state, device):\n",
    "        state = torch.from_numpy(state).float().unsqueeze(0).to(device)\n",
    "        # saida da rede é a probabilidade de cada ação para o estado\n",
    "        probs = self.forward(state).to(device)\n",
    "        # escolhe a ação aleatoria segundo a probabilidade categorical\n",
    "        model = Categorical(probs)\n",
    "        action = model.sample()\n",
    "        # retorna ação e log da probabilidade dela\n",
    "        return action.item(), model.log_prob(action)"
   ]
  },
  {
   "cell_type": "markdown",
   "id": "d9d23293",
   "metadata": {},
   "source": [
    "Essa rede representa uma função diferenciável $\\hat{v}(s, \\boldsymbol{w})$ que fornece o valor de um dado $s$. A arquitetura da Rede Neural Artificial (Perceptron) tem ```state_size``` entradas, uma saída e uma camada escondida de tamanho ```hidden_size```."
   ]
  },
  {
   "cell_type": "code",
   "execution_count": 3,
   "id": "7c402f80",
   "metadata": {},
   "outputs": [],
   "source": [
    "class StateValue(nn.Module):\n",
    "    ##########################################\n",
    "    def __init__(self, state_size, hidden_size=128):\n",
    "        super(StateValue, self).__init__()\n",
    "        self.fc1 = nn.Linear(state_size, hidden_size)\n",
    "        self.fc2 = nn.Linear(hidden_size, 1)\n",
    "\n",
    "    ##########################################\n",
    "    def forward(self, state):\n",
    "        x = F.relu(self.fc1(state))\n",
    "        return self.fc2(x)\n",
    "    \n",
    "    ##########################################\n",
    "    def val(self, state, device):\n",
    "        state = torch.from_numpy(state).float().unsqueeze(0).to(device)\n",
    "        return self(state)"
   ]
  },
  {
   "cell_type": "markdown",
   "id": "3097586f",
   "metadata": {},
   "source": [
    "Criando a classe do algortimo do Ator-crítico."
   ]
  },
  {
   "cell_type": "code",
   "execution_count": 4,
   "id": "9cf3fbe6",
   "metadata": {},
   "outputs": [],
   "source": [
    "class ActorCritic(object):\n",
    "    def __init__(self, parameters):\n",
    "        \n",
    "        self.parameters = parameters\n",
    "\n",
    "        # numero de episodios\n",
    "        self.episode = 0\n",
    "        self.max_iter = parameters['max_iter']\n",
    "        \n",
    "        # parametros de aprendizado\n",
    "        self.gamma = parameters['gamma']\n",
    "        self.alpha = parameters['alpha']\n",
    "        self.beta  = parameters['beta']\n",
    "        self.device = parameters['device']\n",
    "\n",
    "        # cria ambiente\n",
    "        if parameters['render']:\n",
    "            self.env = gym.make('CartPole-v1', render_mode='human')\n",
    "        else:\n",
    "            self.env = gym.make('CartPole-v1')\n",
    "\n",
    "        # cria as funções parametricas da política e do valor\n",
    "        self.critic = StateValue(self.env.observation_space.shape[0]).to(self.device)\n",
    "        self.actor  = Policy(self.env.observation_space.shape[0], self.env.action_space.n).to(self.device)\n",
    "\n",
    "        # otimizadores das redes neurais\n",
    "        self.critic_optimizer = optim.Adam(self.critic.parameters(), lr=self.alpha)\n",
    "        self.actor_optimizer  = optim.Adam(self.actor.parameters(), lr=self.beta)"
   ]
  },
  {
   "cell_type": "markdown",
   "id": "e87587fd",
   "metadata": {},
   "source": [
    "Executando um episódio."
   ]
  },
  {
   "cell_type": "code",
   "execution_count": 5,
   "id": "add29638",
   "metadata": {},
   "outputs": [],
   "source": [
    "class ActorCritic(ActorCritic):\n",
    "    ##########################################\n",
    "    def runEpisode(self):\n",
    "        \n",
    "        # novo episodio\n",
    "        self.episode += 1\n",
    "        \n",
    "        rewards = []\n",
    "        I = 1.0\n",
    "        \n",
    "        # reseta o ambiente\n",
    "        S, _ = self.env.reset()\n",
    "\n",
    "        for _ in range(self.max_iter):\n",
    "\n",
    "            # Amostra uma ação da politica corrente\n",
    "            A, lp = self.actor.act(S, self.device)\n",
    "\n",
    "            # passo de interacao com o ambiente\n",
    "            Sl, R, done, _, _ = self.env.step(A)\n",
    "            rewards.append(R)\n",
    "\n",
    "            # valor do estado corrente e futuro\n",
    "            vSw  = self.critic.val(S, self.device)\n",
    "            vSlw = self.critic.val(Sl, self.device)\n",
    "            \n",
    "            td_target = R + (1 - done)*self.gamma*vSlw\n",
    "            td_error = td_target - vSw\n",
    "            \n",
    "            # Função de perda do valor\n",
    "            critic_loss = F.l1_loss(td_target, vSw)\n",
    "            \n",
    "            # Atualização do crítico\n",
    "            self.critic_optimizer.zero_grad()\n",
    "            critic_loss.backward()\n",
    "            self.critic_optimizer.step()\n",
    "            \n",
    "            # Calcula função de perda da política\n",
    "            actor_loss = -lp * I * td_error.detach()\n",
    "            \n",
    "            # Backpropagate política\n",
    "            self.actor_optimizer.zero_grad()\n",
    "            actor_loss.backward()\n",
    "            self.actor_optimizer.step()\n",
    "\n",
    "            if done: \n",
    "                break\n",
    "\n",
    "            # proximo estado\n",
    "            I *= self.gamma\n",
    "            S = Sl\n",
    "            \n",
    "        return np.sum(np.array(rewards))"
   ]
  },
  {
   "cell_type": "markdown",
   "id": "5b647160",
   "metadata": {},
   "source": [
    "Programa principal:\n",
    "- episodes: número de episódios\n",
    "- max_iter: máximo de iterações até o fim do episódio\n",
    "- gamma: fator de desconto\n",
    "- alpha: $\\alpha$\n",
    "- beta: $\\beta$\n",
    "- render: renderiza animação"
   ]
  },
  {
   "cell_type": "code",
   "execution_count": 6,
   "id": "2dc6a745",
   "metadata": {},
   "outputs": [
    {
     "data": {
      "image/png": "[encoded data removed]",
      "text/plain": [
       "<Figure size 800x400 with 1 Axes>"
      ]
     },
     "metadata": {},
     "output_type": "display_data"
    }
   ],
   "source": [
    "if __name__ == '__main__':\n",
    "\n",
    "    plt.ion()\n",
    "    \n",
    "    # parametros\n",
    "    parameters = {'episodes'  : 500,\n",
    "                  'max_iter'  : 200,\n",
    "                  'n_agents'  : 10,\n",
    "                  'gamma'     : 0.99,\n",
    "                  'alpha'     : 2e-3,\n",
    "                  'beta'      : 1e-3,\n",
    "                  'device'    : torch.device(\"cuda:0\" if torch.cuda.is_available() else \"cpu\"),\n",
    "                  'render'    : False,\n",
    "                 }\n",
    "    \n",
    "    # historico dos reforços\n",
    "    rewards = []\n",
    "    avg_rewards = []\n",
    "    \n",
    "    # cria 'n_agents' para observar comportamento médio\n",
    "    ac = [ActorCritic(parameters) for _ in range(parameters['n_agents'])]\n",
    "    \n",
    "    while ac[0].episode <= parameters['episodes']:\n",
    "        \n",
    "        # roda um episodio para cada agente\n",
    "        total_reward = [ac[i].runEpisode() for i in range(parameters['n_agents'])]\n",
    "        # média de todos os agentes\n",
    "        total_reward = np.mean(total_reward)\n",
    "\n",
    "        # rewards\n",
    "        rewards.append(total_reward)\n",
    "        # reward medio\n",
    "        avg_rewards.append(np.mean(rewards[-25:]))\n",
    "\n",
    "        plt.figure(1)\n",
    "        clear_output(wait=True)\n",
    "        plt.clf()\n",
    "        plt.plot(avg_rewards, 'b', linewidth=2)\n",
    "        plt.plot(rewards, 'r', alpha=0.3)\n",
    "        plt.title('Recompensa por episódios')\n",
    "        plt.xlabel('Episódios')\n",
    "        plt.ylabel('Recompensa')\n",
    "        plt.ylim([0, 200])\n",
    "\n",
    "        plt.show()\n",
    "        plt.pause(.1)\n",
    "\n",
    "    plt.ioff()"
   ]
  }
 ],
 "metadata": {
  "kernelspec": {
   "display_name": "Python 3 (ipykernel)",
   "language": "python",
   "name": "python3"
  },
  "language_info": {
   "codemirror_mode": {
    "name": "ipython",
    "version": 3
   },
   "file_extension": ".py",
   "mimetype": "text/x-python",
   "name": "python",
   "nbconvert_exporter": "python",
   "pygments_lexer": "ipython3",
   "version": "3.12.3"
  }
 },
 "nbformat": 4,
 "nbformat_minor": 5
}
