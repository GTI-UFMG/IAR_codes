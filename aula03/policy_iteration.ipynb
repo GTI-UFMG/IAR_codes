{
 "cells": [
  {
   "cell_type": "markdown",
   "id": "8b43e162",
   "metadata": {},
   "source": [
    "# Iteração de política\n",
    "#### Prof. Armando Alves Neto - Introdução ao Aprendizado por Reforço - PPGEE/UFMG\n",
    "\n",
    "Usando a Avaliação iterativa de política para estimar $\\pi^*(s)$ via um algoritmo de Programação Dinâmica."
   ]
  },
  {
   "cell_type": "markdown",
   "id": "374d0454",
   "metadata": {},
   "source": [
    "Importando bibliotecas."
   ]
  },
  {
   "cell_type": "code",
   "execution_count": 1,
   "id": "3fc77c02",
   "metadata": {},
   "outputs": [],
   "source": [
    "import numpy as np\n",
    "import class_gridworld_env as cge"
   ]
  },
  {
   "cell_type": "markdown",
   "id": "eda30326",
   "metadata": {},
   "source": [
    "Criando a classe principal.\n",
    "\n",
    "Agora temos uma política $a = \\pi(s)$, inicializada com valores aleatórios."
   ]
  },
  {
   "cell_type": "code",
   "execution_count": 2,
   "id": "7d3ea779",
   "metadata": {},
   "outputs": [],
   "source": [
    "class PolicyIteration:\n",
    "    ##########################################\n",
    "    def __init__(self, parameters):\n",
    "\n",
    "        # environment\n",
    "        self.env = cge.Gridworld_Env()\n",
    "        self.size = self.env.getSize()\n",
    "        \n",
    "        # fator de desconto\n",
    "        self.gamma = parameters['gamma']\n",
    "        \n",
    "        # limiar\n",
    "        self.theta = parameters['theta']\n",
    "\n",
    "        # inicia o mundo\n",
    "        self.reset()\n",
    "\n",
    "    ##########################################\n",
    "    def reset(self):\n",
    "\n",
    "        # reseta ambiente\n",
    "        self.env.reset()\n",
    "\n",
    "        # value function \n",
    "        self.value = np.zeros((self.size, self.size))\n",
    "\n",
    "        # politica\n",
    "        nactions = len(self.env.actions)\n",
    "        self.pi = np.random.choice(nactions, (self.size, self.size))\n",
    "\n",
    "        # quantos passos\n",
    "        self.steps = 0"
   ]
  },
  {
   "cell_type": "markdown",
   "id": "f651fb28",
   "metadata": {},
   "source": [
    "Equação de Bellman dado um estado $s$ e uma política $\\pi(s)$:\n",
    "\n",
    "$$\n",
    "\\begin{equation}\n",
    "    v_\\pi(s) = \\sum_{s' \\in \\mathcal{S}, ~r} p(s', r | s, \\pi(s)) \\big[ r + \\gamma v_\\pi(s') \\big]\n",
    "    \\end{equation}\n",
    "$$"
   ]
  },
  {
   "cell_type": "code",
   "execution_count": 3,
   "id": "7f7e1240",
   "metadata": {},
   "outputs": [],
   "source": [
    "class PolicyIteration(PolicyIteration):\n",
    "    ##########################################\n",
    "    # Bellman equation\n",
    "    def bellmanEquation(self, s):\n",
    "\n",
    "        # pega a ação corrente da politica \n",
    "        action = self.env.actions[int(self.pi[s])]\n",
    "\n",
    "        # interage com o ambiente\n",
    "        sl, r, _, _ = self.env.step(s, action)\n",
    "\n",
    "        # valor obtido\n",
    "        v = r + self.gamma*self.value[sl]\n",
    "\n",
    "        return v"
   ]
  },
  {
   "cell_type": "markdown",
   "id": "8234e4ea",
   "metadata": {},
   "source": [
    "Etapa de avaliação de política $\\pi(s)$ (Avaliação iterativa da política)."
   ]
  },
  {
   "cell_type": "code",
   "execution_count": 4,
   "id": "9dd6eac5",
   "metadata": {},
   "outputs": [],
   "source": [
    "class PolicyIteration(PolicyIteration):\n",
    "    ##########################################\n",
    "    def policyEvaluation(self, in_place=False):\n",
    "\n",
    "        while True:\n",
    "            Delta = 0.0\n",
    "\n",
    "            # synchronous oy asynchronous mode?\n",
    "            Vs  = self.value if in_place else np.empty_like(self.value)\n",
    "\n",
    "            # para todos os estados\n",
    "            for i in range(len(self.value)):\n",
    "                for j in range(len(self.value[i])):\n",
    "\n",
    "                    # estado\n",
    "                    s = (i,j)\n",
    "\n",
    "                    # apply bellman expectation equation to each state\n",
    "                    v = Vs[s]\n",
    "                    Vs[s] = self.bellmanEquation(s)\n",
    "\n",
    "                    # Computa o novo Delta\n",
    "                    Delta = np.max([Delta, np.abs(v - Vs[s])])\n",
    "\n",
    "            # atualiza valores\n",
    "            self.value = Vs\n",
    "\n",
    "            # incrementa os passos\n",
    "            self.steps += 1\n",
    "\n",
    "            # convergiu?\n",
    "            if Delta < self.theta: break\n",
    "\n",
    "        return self.value"
   ]
  },
  {
   "cell_type": "markdown",
   "id": "c8259648",
   "metadata": {},
   "source": [
    "Etapa de melhoria da política $\\pi(s)$."
   ]
  },
  {
   "cell_type": "code",
   "execution_count": 5,
   "id": "2298f404",
   "metadata": {},
   "outputs": [],
   "source": [
    "class PolicyIteration(PolicyIteration):\n",
    "    ##########################################\n",
    "    def policyImprovement(self):\n",
    "\n",
    "        policy_stable = True\n",
    "\n",
    "        # para todos os estados\n",
    "        for i in range(len(self.value)):\n",
    "            for j in range(len(self.value[i])):\n",
    "\n",
    "                # estado\n",
    "                s = (i,j)\n",
    "\n",
    "                # calcula a politica otima corrente para cada estado\n",
    "                old_action = self.pi[s]\n",
    "\n",
    "                # para todas as possiveis ações\n",
    "                vs = []\n",
    "                for a, action in enumerate(self.env.actions):\n",
    "                    # interage com o ambiente\n",
    "                    sl, r, _, _ = self.env.step(s, action)\n",
    "                    vs.append(r + self.gamma*self.value[sl])\n",
    "\n",
    "                self.pi[s] = np.argmax(vs)\n",
    "\n",
    "                # nao convergiu ainda\n",
    "                if old_action != self.pi[s]:\n",
    "                    policy_stable = False\n",
    "\n",
    "        return policy_stable"
   ]
  },
  {
   "cell_type": "markdown",
   "id": "c8470aab",
   "metadata": {},
   "source": [
    "Roda um episódio até o algoritmo convergir."
   ]
  },
  {
   "cell_type": "code",
   "execution_count": 6,
   "id": "4eed42dc",
   "metadata": {},
   "outputs": [],
   "source": [
    "class PolicyIteration(PolicyIteration):\n",
    "    ##########################################\n",
    "    def runEpsisode(self, in_place=False):\n",
    "\n",
    "        iterations = 0\n",
    "\n",
    "        while True:\n",
    "            iterations += 1\n",
    "\n",
    "            # Policy Evaluation\n",
    "            value_table = self.policyEvaluation(in_place)\n",
    "\n",
    "            # Policy Improvement\n",
    "            if self.policyImprovement():\n",
    "                print(f\"Convergiu em {iterations} iteracoes!\")\n",
    "                break\n",
    "\n",
    "        return value_table"
   ]
  },
  {
   "cell_type": "markdown",
   "id": "ed4e9b18",
   "metadata": {},
   "source": [
    "Programa principal:\n",
    "\n",
    "- gamma: fator de desconto\n",
    "- theta: limiar de iteração"
   ]
  },
  {
   "cell_type": "code",
   "execution_count": 7,
   "id": "8dd14712",
   "metadata": {},
   "outputs": [
    {
     "name": "stdout",
     "output_type": "stream",
     "text": [
      "Convergiu em 4 iteracoes!\n",
      "Convergiu em 769 passos!\n"
     ]
    },
    {
     "data": {
      "image/png": "[encoded data removed]",
      "text/plain": [
       "<Figure size 800x400 with 2 Axes>"
      ]
     },
     "metadata": {},
     "output_type": "display_data"
    }
   ],
   "source": [
    "##########################################\n",
    "if __name__ == \"__main__\":\n",
    "    \n",
    "    # parametros\n",
    "    parameters = {\n",
    "                'gamma' : 0.99,\n",
    "                'theta' : 1.0e-3,\n",
    "            }\n",
    "\n",
    "    pol_ite = PolicyIteration(parameters)\n",
    "\n",
    "    value_table = pol_ite.runEpsisode()\n",
    "    print(f\"Convergiu em {pol_ite.steps} passos!\")\n",
    "\n",
    "    # renderiza Figure 4.1 (Sutton and Barto)\n",
    "    pol_ite.env.render(value_table, pi=pol_ite.pi)"
   ]
  }
 ],
 "metadata": {
  "kernelspec": {
   "display_name": "Python 3 (ipykernel)",
   "language": "python",
   "name": "python3"
  },
  "language_info": {
   "codemirror_mode": {
    "name": "ipython",
    "version": 3
   },
   "file_extension": ".py",
   "mimetype": "text/x-python",
   "name": "python",
   "nbconvert_exporter": "python",
   "pygments_lexer": "ipython3",
   "version": "3.12.3"
  }
 },
 "nbformat": 4,
 "nbformat_minor": 5
}
