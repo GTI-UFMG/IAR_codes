{
 "cells": [
  {
   "cell_type": "markdown",
   "id": "2b07f289",
   "metadata": {},
   "source": [
    "# Métodos de Monte Carlo - pêndulo invertido\n",
    "\n",
    "#### Prof. Armando Alves Neto - Introdução ao Aprendizado por Reforço - PPGEE/UFMG\n",
    "\n",
    "<img src=\"cart_pole.gif\" width=\"400\">\n",
    "\n",
    "Objetivo: usar o controle de Monte Carlo de primeira visita on-policy ($\\varepsilon$-soft) para estimar uma política $\\pi \\approx \\pi_*$ que controle um pêndulo invertido.\n",
    "\n",
    "## Características do pêndulo:\n",
    "\n",
    "### Espaço de observações\n",
    "\n",
    "| Número | Observação | Min | Max |\n",
    "| :-: | :- | :-: | :-: |\n",
    "| 0\t| Posição do carrinho | -4.8 | 4.8|\n",
    "| 1\t| Velocidade do carrinho | -$\\infty$ | $\\infty$|\n",
    "| 2\t| Ângulo do pêndulo | -0.42 rad ($\\approx$ -24°)\t| 0.42 rad ($\\approx$ 24°)|\n",
    "| 3\t| Velocidade angular do pêndulo\t| -$\\infty$ | $\\infty$ |\n",
    "\n",
    "### Espaço de ações\n",
    "| Número | Ação |\n",
    "| :-: | :- |\n",
    "| 0\t| Carrinho para a esquerda |\n",
    "| 1\t| Carrinho para a direita |\n",
    "\n",
    "### Função de recompensa\n",
    "\n",
    "- Devolve +1 para cada passo antes do pêndulo cair.\n",
    "- Episódio termina quando o ângulo do pêndulo excede ±12°, ou quando a posição do carrinho é maior que ±2.4.\n",
    "- Máximo de 200 passos."
   ]
  },
  {
   "cell_type": "markdown",
   "id": "e241ee2c",
   "metadata": {},
   "source": [
    "Importando bilbiotecas. A biblioteca gym emula ambientes para aprendizado por reforço (no caso, o pêndulo)."
   ]
  },
  {
   "cell_type": "code",
   "execution_count": 1,
   "id": "e8a3b634",
   "metadata": {},
   "outputs": [],
   "source": [
    "try:\n",
    "    import gymnasium as gym\n",
    "except ImportError:\n",
    "    import gym\n",
    "import numpy as np\n",
    "from functools import partial\n",
    "from collections import deque\n",
    "from IPython.display import clear_output\n",
    "import matplotlib.pyplot as plt\n",
    "plt.rcParams['figure.figsize'] = (8,4)"
   ]
  },
  {
   "cell_type": "markdown",
   "id": "56529253",
   "metadata": {},
   "source": [
    "Criando uma classe para gerenciar as listas de *retornos(s,a)* para todos os estados e ações."
   ]
  },
  {
   "cell_type": "code",
   "execution_count": 2,
   "id": "158d30b1",
   "metadata": {},
   "outputs": [],
   "source": [
    "class Returns:\n",
    "    ##########################################\n",
    "    def __init__(self):\n",
    "        self.r = []\n",
    "    ##########################################\n",
    "    def append(self, G):\n",
    "        self.r.append(G) \n",
    "    ##########################################\n",
    "    # média corrente dos retornos(s)\n",
    "    def getAverage(self):\n",
    "        return np.mean(self.r) if self.r else 0.0"
   ]
  },
  {
   "cell_type": "markdown",
   "id": "9af33a54",
   "metadata": {},
   "source": [
    "Criando a classe do Monte Carlo tabular. Nesse exemplo, vamos usar o pêndulo: ```gym.make('CartPole-v0')```."
   ]
  },
  {
   "cell_type": "code",
   "execution_count": 3,
   "id": "701cb0eb",
   "metadata": {},
   "outputs": [],
   "source": [
    "class TabularMC():\n",
    "    ##########################################\n",
    "    def __init__(self, parameters):\n",
    "\n",
    "        # conta episodios\n",
    "        self.episode = 0\n",
    "        \n",
    "        # numero maximo de passos no episódio\n",
    "        self.max_steps = parameters['max_steps']\n",
    "\n",
    "        # cria o ambiente (pendulo invertido)\n",
    "        if parameters['render']:\n",
    "            self.env = gym.make('CartPole-v0', render_mode='human')\n",
    "        else:\n",
    "            self.env = gym.make('CartPole-v0')\n",
    "        num_states = [2, 8, 8, 8]\n",
    "        lower_bounds = [-4.8, -3.0, -0.418, -2.0]\n",
    "        upper_bounds = [ 4.8,  3.0,  0.418,  2.0]\n",
    "\n",
    "        # converte estados continuos em discretos\n",
    "        self.get_state = partial(self.obs_to_state, num_states, lower_bounds, upper_bounds)\n",
    "\n",
    "        # tamanho dos espacos de estados e acoes\n",
    "        self.num_states = np.prod(np.array(num_states))\n",
    "        self.num_actions = self.env.action_space.n\n",
    "\n",
    "        # parametros de aprendizado\n",
    "        self.gamma = parameters['gamma']\n",
    "        self.eps = parameters['eps']\n",
    "\n",
    "        # reseta a politica\n",
    "        self.reset_policy()\n",
    "\n",
    "        # eh first-visit ou every-visit?\n",
    "        self.method = parameters['method']\n",
    "\n",
    "    ##########################################\n",
    "    # reseta a funcao acao-valor\n",
    "    def reset_policy(self):\n",
    "        # Q(s,a)\n",
    "        self.Q = np.zeros((self.num_states, self.num_actions))\n",
    "\n",
    "        # Retornos(s,a)\n",
    "        self.returns = [ [ Returns() for i in range(self.num_actions) ] for j in range(self.num_states) ]\n",
    "\n",
    "    ##########################################\n",
    "    # retorna a politica corrente\n",
    "    def curr_policy(self, copy=False):\n",
    "        if copy:\n",
    "            return partial(self.TabularEpsilonGreedyPolicy, np.copy(self.Q))\n",
    "        else:\n",
    "            return partial(self.TabularEpsilonGreedyPolicy, self.Q)\n",
    "\n",
    "    ##########################################\n",
    "    # converte estados continuos em discretos\n",
    "    def obs_to_state(self, num_states, lower_bounds, upper_bounds, obs):\n",
    "        state_idx = []\n",
    "        for ob, lower, upper, num in zip(obs, lower_bounds, upper_bounds, num_states):\n",
    "            state_idx.append(self.discretize_val(ob, lower, upper, num))\n",
    "        return np.ravel_multi_index(state_idx, num_states)\n",
    "\n",
    "    ##########################################\n",
    "    # discretiza um valor\n",
    "    def discretize_val(self, val, min_val, max_val, num_states):\n",
    "        state = int(num_states * (val - min_val) / (max_val - min_val))\n",
    "        return np.clip(state, 0, num_states - 1)\n",
    "\n",
    "    ##########################################\n",
    "    def __del__(self):\n",
    "        self.env.close()"
   ]
  },
  {
   "cell_type": "markdown",
   "id": "d755679d",
   "metadata": {},
   "source": [
    "Usando $\\pi(s)$ para gerar um episódio: $S_0$, $A_0$, $R_1$, $\\ldots$, $S_{T-1}$, $A_{T-1}$, $R_T$."
   ]
  },
  {
   "cell_type": "code",
   "execution_count": 4,
   "id": "29942002",
   "metadata": {
    "scrolled": true
   },
   "outputs": [],
   "source": [
    "class TabularMC(TabularMC):\n",
    "    ##########################################\n",
    "    # simula um episodio até o fim seguindo a politica corrente\n",
    "    def oneEpisode(self):\n",
    "\n",
    "        # inicia o ambiente (começa aleatoriamente)\n",
    "        obs,_ = self.env.reset()\n",
    "\n",
    "        # listas da trajetoria S_{T-1}, A_{T-1}, R_{T}, ....\n",
    "        rewards, actions, states = ([] for i in range(3))\n",
    "\n",
    "        for _ in range(self.max_steps):\n",
    "            # gera estados baseado na observacao\n",
    "            S = self.get_state(obs)\n",
    "            # \\pi(s)\n",
    "            A = self.policy(S)\n",
    "\n",
    "            # passo de interacao com o ambiente\n",
    "            obs, R, done, _, info = self.env.step(A)\n",
    "\n",
    "            # Salva S_{T-1}, A_{T-1}, R_{T}, ....\n",
    "            actions.append(A)\n",
    "            states.append(S)\n",
    "            rewards.append(R)\n",
    "\n",
    "            # chegou a um estado terminal?\n",
    "            if done: break\n",
    "\n",
    "        return [states, actions, rewards]"
   ]
  },
  {
   "cell_type": "markdown",
   "id": "3423fd08",
   "metadata": {},
   "source": [
    "Computa a função ação-valor $Q(S_t, A_t) \\gets \\textrm{média}(Retornos(S_t, A_t))$"
   ]
  },
  {
   "cell_type": "code",
   "execution_count": 5,
   "id": "8984ca7a",
   "metadata": {},
   "outputs": [],
   "source": [
    "class TabularMC(TabularMC):\n",
    "    ##########################################\n",
    "    def Iterate(self):\n",
    "\n",
    "        # novo episodio\n",
    "        self.episode += 1\n",
    "\n",
    "        # pega a politica corrente (on-policy)\n",
    "        self.policy = self.curr_policy()\n",
    "\n",
    "        # gera um episodio seguindo a politica corrente\n",
    "        [states, actions, rewards] = self.oneEpisode()\n",
    "\n",
    "        G = 0.0\n",
    "        \n",
    "        # processa experiencia (de tras para frente)\n",
    "        for t in reversed(range(len(states))):\n",
    "            \n",
    "            # Get S_{T}, R_{T+1}\n",
    "            s = states[t]\n",
    "            a = actions[t]\n",
    "            r = rewards[t]\n",
    "            \n",
    "            # first-visit?\n",
    "            if self.method == 'first_visit':\n",
    "                if s in states[0:t]:\n",
    "                    continue\n",
    "            elif self.method == 'every_visit':\n",
    "                None\n",
    "\n",
    "            # atualiza Q(s,a)\n",
    "            G = self.gamma*G + r\n",
    "            self.returns[s][a].append(G)\n",
    "            \n",
    "            # Q(S_t, A_t) \\gets média(Retornos(S_t, A_t))\n",
    "            self.Q[s, a] = self.returns[s][a].getAverage()\n",
    "\n",
    "        return np.sum(np.array(rewards))"
   ]
  },
  {
   "cell_type": "markdown",
   "id": "cc021f92",
   "metadata": {},
   "source": [
    "Probabilidade de escolha de uma ação $a$ baseada na política $\\varepsilon$-soft:\n",
    "$$\n",
    "\\pi(a|S_t) \\gets \n",
    "                        \\begin{cases}\n",
    "                            1 - \\varepsilon + \\varepsilon/|\\mathcal{A}|,  & \\text{se}~ a = \\arg\\max_{a} Q(S_t,a),\\\\\n",
    "                            \\varepsilon/|\\mathcal{A}|, & \\text{caso contrário.}\n",
    "                        \\end{cases}\n",
    "$$"
   ]
  },
  {
   "cell_type": "code",
   "execution_count": 6,
   "id": "b60a8cf8",
   "metadata": {},
   "outputs": [],
   "source": [
    "class TabularMC(TabularMC):\n",
    "    ##########################################\n",
    "    # escolha da açao (epsilon-soft)\n",
    "    def TabularEpsilonGreedyPolicy(self, Q, state):\n",
    "        # probabilidades de escolher as acoes\n",
    "        p1 = 1.0 - self.eps + self.eps/self.num_actions\n",
    "        p2 = self.eps/self.num_actions\n",
    "        prob = [p1 if a == Q[state, :].argmax() else p2 for a in range(self.num_actions)]\n",
    "        \n",
    "        return np.random.choice(self.num_actions, p=np.array(prob))"
   ]
  },
  {
   "cell_type": "markdown",
   "id": "476e8cb1",
   "metadata": {},
   "source": [
    "Programa principal:\n",
    "\n",
    "- episodes: número de episódios\n",
    "- max_steps: número máximo de passos no episódio\n",
    "- gamma: fator de desconto\n",
    "- eps: probabilidade de $\\varepsilon$-*greedy*\n",
    "- method: *first-visit* ou *every-visit*\n",
    "- render: renderiza animação"
   ]
  },
  {
   "cell_type": "code",
   "execution_count": 7,
   "id": "ff1e473c",
   "metadata": {
    "scrolled": false
   },
   "outputs": [
    {
     "data": {
      "image/png": "[encoded data removed]",
      "text/plain": [
       "<Figure size 800x400 with 1 Axes>"
      ]
     },
     "metadata": {},
     "output_type": "display_data"
    }
   ],
   "source": [
    "if __name__ == '__main__':\n",
    "    \n",
    "    plt.ion()\n",
    "    \n",
    "    # parametros\n",
    "    parameters = {'episodes'  : 600,\n",
    "                  'max_steps' : 200,\n",
    "                  'gamma'     : 0.99,\n",
    "                  'eps'       : 1.0e-1,\n",
    "                  'method'    : 'first-visit', # 'first-visit' ou 'every-visit'\n",
    "                  'render'    : False,\n",
    "                 }\n",
    "    \n",
    "    # Cria Monte-Carlo tabular\n",
    "    mc = TabularMC(parameters)\n",
    "\n",
    "    # historico dos recompensas\n",
    "    rewards = []\n",
    "    avg_rewards = []\n",
    "\n",
    "    # loop principal\n",
    "    for i in range(parameters['episodes']):\n",
    "        \n",
    "        # roda um episodio\n",
    "        total_reward = mc.Iterate()\n",
    "        \n",
    "        # rewards\n",
    "        rewards.append(total_reward)\n",
    "        # reward medio\n",
    "        avg_rewards.append(np.mean(rewards[-50:]))\n",
    "        \n",
    "        # plot\n",
    "        plt.figure(1)\n",
    "        clear_output(wait=True)\n",
    "        plt.clf()\n",
    "        plt.plot(avg_rewards, 'b', linewidth=2)\n",
    "        plt.plot(rewards, 'r', alpha=0.3)\n",
    "        plt.title('Recompensa por episódios')\n",
    "        plt.xlabel('Episódios')\n",
    "        plt.ylabel('Recompensa')\n",
    "        plt.show()\n",
    "        plt.pause(.1)"
   ]
  }
 ],
 "metadata": {
  "kernelspec": {
   "display_name": "Python 3 (ipykernel)",
   "language": "python",
   "name": "python3"
  },
  "language_info": {
   "codemirror_mode": {
    "name": "ipython",
    "version": 3
   },
   "file_extension": ".py",
   "mimetype": "text/x-python",
   "name": "python",
   "nbconvert_exporter": "python",
   "pygments_lexer": "ipython3",
   "version": "3.12.3"
  }
 },
 "nbformat": 4,
 "nbformat_minor": 5
}
