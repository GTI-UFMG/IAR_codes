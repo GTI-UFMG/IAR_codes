{
 "cells": [
  {
   "cell_type": "markdown",
   "id": "67f769d2",
   "metadata": {},
   "source": [
    "# Introdução ao Aprendizado Profundo (Deep Q-Network)\n",
    "\n",
    "#### Prof. Armando Alves Neto - Introdução ao Aprendizado por Reforço - PPGEE/UFMG\n",
    "\n",
    "<img src=\"lunar_lander.gif\" width=\"400\">\n",
    "\n",
    "Objetivo: utilizar o algoritmo de DQN para treinar o pouso de uma sonda lunar na posição entre as duas bandeiras.\n",
    "\n",
    "## Características da sonda lunar:\n",
    "\n",
    "### Espaço de observações\n",
    "\n",
    "Espaço de estados com 8 dimensões:\n",
    "- posições $x$ e $y$ \n",
    "- velocidades lineares em $x$ e $y$ \n",
    "- ângulo \n",
    "- velocidade angular \n",
    "- dois contatos (boleanos) representando o contato de cada perna com o chão.\n",
    "\n",
    "### Espaço de ações\n",
    "\n",
    "Existem quatro ações possíveis:\n",
    "- fazer nada\n",
    "- acionar propulsor de orientação à esquerda\n",
    "- acionar propulsor principal\n",
    "- acionar propulsor de orientação à direita\n",
    "\n",
    "### Função de reforço\n",
    "\n",
    "Para cada passo, o reforço:\n",
    "- é aumentado/diminuído quanto mais próximo/mais o módulo de pouso estiver da plataforma de pouso\n",
    "- é aumentado/diminuído quanto mais lento/mais rápido o módulo de pouso estiver se movendo\n",
    "- diminui quanto mais o lander é inclinado (ângulo não horizontal)\n",
    "- é aumentado em 10 pontos para cada perna que está em contato com o solo\n",
    "- é reduzido em 0,03 pontos a cada quadro que um motor lateral está disparando\n",
    "- é diminuído em 0,3 pontos a cada quadro que o motor principal está disparando.\n",
    "\n",
    "O episódio recebe uma recompensa adicional de -100 ou +100 pontos por bater ou pousar com segurança, respectivamente. Um episódio é considerado uma solução se obtiver pelo menos 200 pontos.\n",
    "\n",
    "### Estados terminais\n",
    "\n",
    "O episódio termina se:\n",
    "- a sonda atingir o solo\n",
    "- a sonda sair do campo de visão (coordenada x maior que 1)\n",
    "- a sonda para de se mover"
   ]
  },
  {
   "cell_type": "markdown",
   "id": "5fb25e15",
   "metadata": {},
   "source": [
    "Importando bibliotecas."
   ]
  },
  {
   "cell_type": "code",
   "execution_count": 1,
   "id": "d17027f1",
   "metadata": {},
   "outputs": [],
   "source": [
    "import gym\n",
    "import numpy as np\n",
    "import random\n",
    "import torch\n",
    "import torch.nn as nn\n",
    "import torch.nn.functional as F\n",
    "import torch.optim as optim\n",
    "import matplotlib.pyplot as plt\n",
    "plt.rcParams['figure.figsize'] = (10,5)\n",
    "from IPython.display import clear_output\n",
    "from collections import deque, namedtuple\n",
    "import seaborn as sns\n",
    "sns.set()"
   ]
  },
  {
   "cell_type": "markdown",
   "id": "64e78673",
   "metadata": {},
   "source": [
    "Cria uma classe (```RunningAverage()```) apenas para calcular a média móvel do sinal de reforço."
   ]
  },
  {
   "cell_type": "code",
   "execution_count": 2,
   "id": "33d74a8e",
   "metadata": {},
   "outputs": [],
   "source": [
    "class RunningAverage(object):\n",
    "    def __init__(self, N):\n",
    "        self.buffer = deque(maxlen=N)\n",
    "\n",
    "    def push(self, val):  \n",
    "        self.buffer.append(val)\n",
    "\n",
    "    def get(self):\n",
    "        return np.mean(self.buffer)"
   ]
  },
  {
   "cell_type": "markdown",
   "id": "6f684b58",
   "metadata": {},
   "source": [
    "Define arquitetura da Rede Neural Artificial (Perceptron) com ```state_size```entradas, ```action_size``` saídas e duas camadas escondidas de tamanho ```hidden```."
   ]
  },
  {
   "cell_type": "code",
   "execution_count": 3,
   "id": "d5a6f2a9",
   "metadata": {},
   "outputs": [],
   "source": [
    "class QNetwork(nn.Module):\n",
    "    ##########################################\n",
    "    def __init__(self, state_size, action_size, hidden=64):\n",
    "        super(QNetwork, self).__init__()\n",
    "        self.fc1 = nn.Linear(state_size, hidden)\n",
    "        self.fc2 = nn.Linear(hidden, hidden)\n",
    "        self.fc3 = nn.Linear(hidden, action_size)\n",
    "\n",
    "    ##########################################\n",
    "    # Build a network that maps state -> action values.\n",
    "    def forward(self, state):\n",
    "        x = F.relu(self.fc1(state))\n",
    "        x = F.relu(self.fc2(x))\n",
    "        return self.fc3(x)"
   ]
  },
  {
   "cell_type": "markdown",
   "id": "d2c2233a",
   "metadata": {},
   "source": [
    "Gerenciando o replay buffer. O buffer tem tamanho fixo e armazena tuplas de experiências com o ambiente."
   ]
  },
  {
   "cell_type": "code",
   "execution_count": 4,
   "id": "e4a8395d",
   "metadata": {},
   "outputs": [],
   "source": [
    "class ReplayBuffer:\n",
    "    ##########################################\n",
    "    def __init__(self, parameters, action_size, buffer_size=int(1e5)):\n",
    "        self.action_size = action_size\n",
    "        self.batch_size = parameters['batch_size']\n",
    "        self.device = parameters['device']\n",
    "        \n",
    "        self.memory = deque(maxlen=buffer_size)  \n",
    "        self.experience = namedtuple(\"Experience\", field_names=[\"state\", \"action\", \"reward\", \"next_state\", \"done\"])\n",
    "    \n",
    "    ##########################################\n",
    "    # Add a new experience to memory.\n",
    "    def add(self, S, A, R, Sl, done):\n",
    "        e = self.experience(S, A, R, Sl, done)\n",
    "        self.memory.append(e)\n",
    "    \n",
    "    ##########################################\n",
    "    # Escolhe aleatoriamente um mini-lote das experiencias\n",
    "    def sample(self):\n",
    "        Dj = random.sample(self.memory, k=np.min([len(self.memory), self.batch_size]))\n",
    "    \n",
    "        states = torch.from_numpy(np.vstack([e.state for e in Dj if e is not None])).float().to(self.device)\n",
    "        actions = torch.from_numpy(np.vstack([e.action for e in Dj if e is not None])).long().to(self.device)\n",
    "        rewards = torch.from_numpy(np.vstack([e.reward for e in Dj if e is not None])).float().to(self.device)\n",
    "        next_states = torch.from_numpy(np.vstack([e.next_state for e in Dj if e is not None])).float().to(self.device)\n",
    "        dones = torch.from_numpy(np.vstack([e.done for e in Dj if e is not None]).astype(np.uint8)).float().to(self.device)\n",
    "  \n",
    "        return (states, actions, rewards, next_states, dones)\n",
    "    \n",
    "    ##########################################\n",
    "    # Return the current size of internal memory.\n",
    "    def __len__(self):\n",
    "        return len(self.memory)"
   ]
  },
  {
   "cell_type": "markdown",
   "id": "1322a2e3",
   "metadata": {},
   "source": [
    "Cria classe do algoritmo de DQN."
   ]
  },
  {
   "cell_type": "code",
   "execution_count": 5,
   "id": "2d29b95f",
   "metadata": {},
   "outputs": [],
   "source": [
    "class DQN(object):\n",
    "    def __init__(self, parameters):\n",
    "        \n",
    "        self.parameters = parameters\n",
    "\n",
    "        # numero de episodios\n",
    "        self.episode = 0\n",
    "        self.max_iter = parameters['max_iter']\n",
    "        \n",
    "        # parametros de aprendizado\n",
    "        self.gamma = parameters['gamma']\n",
    "        self.eps = parameters['eps']\n",
    "        self.alpha = parameters['alpha']\n",
    "        self.device = parameters['device']\n",
    "        \n",
    "        # cria ambiente\n",
    "        self.env = gym.make('LunarLander-v2')\n",
    "        self.env.seed(0)\n",
    "        \n",
    "        # Q-Network\n",
    "        self.qnetwork = QNetwork(state_size=self.env.observation_space.shape[0], action_size=self.env.action_space.n).to(self.device)\n",
    "        \n",
    "        # otimizador\n",
    "        self.optimizer = optim.Adam(self.qnetwork.parameters(), lr=self.alpha)\n",
    "        \n",
    "        # Buffer de armazenamento de experiencias\n",
    "        self.D = ReplayBuffer(parameters, action_size=self.env.action_space.n)\n",
    "        \n",
    "    ##########################################\n",
    "    # politica epsilon-greedy \n",
    "    def act(self, state):\n",
    "\n",
    "        state = torch.from_numpy(state).float().unsqueeze(0).to(self.device)\n",
    "        self.qnetwork.eval()\n",
    "        with torch.no_grad():\n",
    "            action_values = self.qnetwork(state)\n",
    "        self.qnetwork.train()\n",
    "\n",
    "        # Epsilon-greedy action selection\n",
    "        if np.random.random() > self.eps:\n",
    "            return np.argmax(action_values.cpu().data.numpy())\n",
    "        else:\n",
    "            return np.random.choice(np.arange(self.env.action_space.n))"
   ]
  },
  {
   "cell_type": "markdown",
   "id": "02730354",
   "metadata": {},
   "source": [
    "Executa um episódio do DQN."
   ]
  },
  {
   "cell_type": "code",
   "execution_count": 6,
   "id": "f11edd68",
   "metadata": {},
   "outputs": [],
   "source": [
    "class DQN(DQN):\n",
    "    def runEpisode(self, print_every=20):\n",
    "    \n",
    "        # novo episodio\n",
    "        self.episode += 1\n",
    "        \n",
    "        rewards = []\n",
    "        \n",
    "        # determina o estado inicial\n",
    "        S = self.env.reset()\n",
    "\n",
    "        for _ in range(parameters['max_iter']):\n",
    "            \n",
    "            # Escolhe uma ação (epsilon-greedy)\n",
    "            A = self.act(S)\n",
    "            Sl, R, done, _ = self.env.step(A)\n",
    "            rewards.append(R)\n",
    "            \n",
    "            # Armazena a experiencia (S,A,R,Sl) no buffer D\n",
    "            self.D.add(S, A, R, Sl, done)\n",
    "\n",
    "            # Seleciona um mini-lote Dj de D e apŕende\n",
    "            Ss, As, Rs, Sls, dones = self.D.sample()\n",
    "\n",
    "            # Calcula o alvo da função valor-ação\n",
    "            y = Rs + self.gamma*self.qnetwork(Sls).detach().max(1)[0].unsqueeze(1) * (1 - dones)\n",
    "\n",
    "            ### Calculate expected value from local network\n",
    "            qhat = self.qnetwork(Ss).gather(1, As)\n",
    "\n",
    "            # Função de perda (erro médio quadrático)\n",
    "            loss = F.mse_loss(y, qhat)\n",
    "            self.optimizer.zero_grad()\n",
    "            loss.backward()\n",
    "            self.optimizer.step()\n",
    "\n",
    "            # renderiza eventualmente\n",
    "            if self.episode % print_every == 0:\n",
    "                self.env.render()\n",
    "\n",
    "            # proximo estado\n",
    "            S = Sl\n",
    "            \n",
    "            if done: break\n",
    "\n",
    "        return np.sum(np.array(rewards))"
   ]
  },
  {
   "cell_type": "markdown",
   "id": "5024350c",
   "metadata": {},
   "source": [
    "Programa principal."
   ]
  },
  {
   "cell_type": "code",
   "execution_count": null,
   "id": "e3ff60b6",
   "metadata": {
    "scrolled": true
   },
   "outputs": [
    {
     "data": {
      "image/png": "[encoded data removed]",
      "text/plain": [
       "<Figure size 720x360 with 1 Axes>"
      ]
     },
     "metadata": {},
     "output_type": "display_data"
    }
   ],
   "source": [
    "##########################################\n",
    "# main\n",
    "##########################################\n",
    "if __name__ == '__main__':\n",
    "    \n",
    "    plt.ion()\n",
    "\n",
    "    # cria objeto para calculo da média movel do reward\n",
    "    avg_calc = RunningAverage(50)\n",
    "    \n",
    "    # parametros\n",
    "    parameters = {'episodes'  : 1000,\n",
    "                  'max_iter'  : 1000,\n",
    "                  'gamma'     : 0.99,\n",
    "                  'eps'       : 5.0e-1,\n",
    "                  'alpha'     : 5.0e-4,\n",
    "                  'batch_size': 64,     # minibatch size\n",
    "                  'device'    : torch.device(\"cuda:0\" if torch.cuda.is_available() else \"cpu\"),\n",
    "                  }\n",
    "    \n",
    "    # historico dos reforços\n",
    "    rewards = []\n",
    "    avg_rewards = []\n",
    "    \n",
    "    dqn = DQN(parameters)\n",
    "    \n",
    "    while dqn.episode <= parameters['episodes']:\n",
    "        \n",
    "        # roda um episodio\n",
    "        total_reward = dqn.runEpisode()\n",
    "\n",
    "        # rewards\n",
    "        rewards.append(total_reward)\n",
    "        # reward medio\n",
    "        avg_calc.push(total_reward)\n",
    "        avg_rewards.append(avg_calc.get())\n",
    "\n",
    "        plt.figure(1)\n",
    "        clear_output(wait=True)\n",
    "        plt.clf()\n",
    "        plt.plot(avg_rewards, 'b', linewidth=2)\n",
    "        plt.plot(rewards, 'r', alpha=0.3)\n",
    "        plt.title('Reforço por episódios')\n",
    "        plt.xlabel('Episódios')\n",
    "        plt.ylabel('Reforço')\n",
    "\n",
    "        plt.show()\n",
    "        plt.pause(.1)\n",
    "\n",
    "    plt.ioff()"
   ]
  }
 ],
 "metadata": {
  "kernelspec": {
   "display_name": "Python 3 (ipykernel)",
   "language": "python",
   "name": "python3"
  },
  "language_info": {
   "codemirror_mode": {
    "name": "ipython",
    "version": 3
   },
   "file_extension": ".py",
   "mimetype": "text/x-python",
   "name": "python",
   "nbconvert_exporter": "python",
   "pygments_lexer": "ipython3",
   "version": "3.8.10"
  }
 },
 "nbformat": 4,
 "nbformat_minor": 5
}
